import faiss
import pickle
from sentence_transformers import SentenceTransformer
import numpy as np

MODEL_NAME = "all-MiniLM-L6-v2"
KB_FILE = "../data/knowledge_base.txt"
FAISS_INDEX_PATH = "../models/faiss_index.index"
EMBEDDINGS_PATH = "../models/embeddings.pkl"

model = SentenceTransformer(MODEL_NAME)

# Load KB
with open(KB_FILE, "r") as f:
    kb_data = [line.strip() for line in f if line.strip()]

# Create embeddings
vectors = model.encode(kb_data)
vectors = np.array(vectors).astype("float32")

# Create FAISS index
index = faiss.IndexFlatL2(vectors.shape[1])
index.add(vectors)

# Save index
faiss.write_index(index, FAISS_INDEX_PATH)

# Save embeddings
embeddings = [{"text": text} for text in kb_data]
with open(EMBEDDINGS_PATH, "wb") as f:
    pickle.dump(embeddings, f)

print("✅ Model and FAISS index saved successfully.")
