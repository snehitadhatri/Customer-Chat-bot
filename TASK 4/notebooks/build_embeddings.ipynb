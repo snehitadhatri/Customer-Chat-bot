import pandas as pd
from sentence_transformers import SentenceTransformer
import faiss, os, pickle


# Load dataset
csv_path = '../data/arxiv_subset.csv' # subset of CS papers
papers = pd.read_csv(csv_path)
papers = papers.fillna('')


# Use sentence-transformers model
model = SentenceTransformer('all-MiniLM-L6-v2')


# Encode abstracts
embeddings = model.encode(papers['abstract'].tolist(), show_progress_bar=True)


# Create FAISS index
index = faiss.IndexFlatL2(embeddings.shape[1])
index.add(embeddings)


# Save FAISS index
os.makedirs('../data/faiss_index', exist_ok=True)
faiss.write_index(index, '../data/faiss_index/index.faiss')


# Save mapping (paper_id → row)
with open('../data/faiss_index/index.pkl', 'wb') as f:
pickle.dump(papers.to_dict('records'), f)


print('✅ FAISS index built and saved.')
